{
 "cells": [
  {
   "cell_type": "code",
   "execution_count": 1,
   "metadata": {},
   "outputs": [],
   "source": [
    "import sys"
   ]
  },
  {
   "cell_type": "code",
   "execution_count": 2,
   "metadata": {},
   "outputs": [],
   "source": [
    "from collections import defaultdict\n",
    "Character2number = {\"T\":10,\"J\":11,\"Q\":12,\"K\":13,\"A\":14} # convert string to int values\n",
    "for i in range(2,11):\n",
    "    Character2number[str(i)]=i"
   ]
  },
  {
   "cell_type": "code",
   "execution_count": 3,
   "metadata": {},
   "outputs": [],
   "source": [
    "def if_flush(suits):\n",
    "    return len(set(suits))==1"
   ]
  },
  {
   "cell_type": "code",
   "execution_count": 4,
   "metadata": {},
   "outputs": [],
   "source": [
    "def if_straight(values):\n",
    "    for i in range(4):\n",
    "        if values[i] != values[i+1]-1:\n",
    "            return False\n",
    "    return True"
   ]
  },
  {
   "cell_type": "code",
   "execution_count": 5,
   "metadata": {},
   "outputs": [],
   "source": [
    "def kind(values): # return the counts of different values card and a list of ranked values.\n",
    "    unique = defaultdict(int) # dictionary with dafault values 0\n",
    "    for i in values:\n",
    "        unique[i] = unique[i]+1\n",
    "\n",
    "    ranked_value = [] # a list of values orderd by the counts. If counts tie then orderd by value.\n",
    "    \n",
    "    counts = sorted(list(set(unique.values())),reverse=True) # the counts of values in descending order.\n",
    "\n",
    "    keys = sorted(list(unique.keys()),reverse=True)\n",
    "\n",
    "    for n in counts:\n",
    "        for i in keys:\n",
    "            if unique[i]==n:\n",
    "                ranked_value.append(i) # firstly insert the most frequent value, then insert the higher value.\n",
    "    \n",
    "    return list(unique.values()),ranked_value\n",
    "    "
   ]
  },
  {
   "cell_type": "code",
   "execution_count": 6,
   "metadata": {},
   "outputs": [],
   "source": [
    "def hand2rank(hand):\n",
    "    # input a hand, return a tuple (rank, ranked values)\n",
    "    values = []\n",
    "    suits = []\n",
    "\n",
    "    for card in hand.split():\n",
    "        values.append(Character2number[card[:-1]]) # obtain the value of each card\n",
    "        suits.append(card[1]) # obtain the suit of each card\n",
    "    values.sort() # sort the values\n",
    "\n",
    "    flush = if_flush(suits)\n",
    "    straight = if_straight(values)\n",
    "\n",
    "    if flush and straight: # check if Royal or Straight flush\n",
    "        return (9,values[-1]) # return 9 rank and highest value. 0 is a placeholder\n",
    "    else:\n",
    "        kinds,ranked_value = kind(values)\n",
    "\n",
    "        if 4 in kinds: # Four of a kind\n",
    "            return (8,ranked_value)\n",
    "        elif 3 in kinds and 2 in kinds: #Full house\n",
    "            return (7,ranked_value)\n",
    "        elif flush: #Flush\n",
    "            return (6,reversed(values))\n",
    "        elif straight:\n",
    "            return (5,values[-1])\n",
    "        elif 3 in kinds: # Three of a kind\n",
    "            return (4,ranked_value)\n",
    "        elif kinds.count(2) == 2: #two paris\n",
    "            return (3,ranked_value)\n",
    "        elif 2 in kinds: # pair \n",
    "            return (2,ranked_value)\n",
    "        else:\n",
    "            return (1,ranked_value)\n"
   ]
  },
  {
   "cell_type": "code",
   "execution_count": 7,
   "metadata": {},
   "outputs": [
    {
     "name": "stdout",
     "output_type": "stream",
     "text": [
      "Player 1: 0\n",
      "Player 2: 0\n"
     ]
    }
   ],
   "source": [
    "first_won = 0\n",
    "second_won = 0\n",
    "for line in sys.stdin:\n",
    "    cards = line.split()\n",
    "    first_hand = \" \".join(cards[:5])\n",
    "    second_hand = \" \".join(cards[5:])\n",
    "    \n",
    "    first_rank = hand2rank(first_hand)\n",
    "    second_rank = hand2rank(second_hand)\n",
    "    \n",
    "    if first_rank > second_rank:\n",
    "        first_won +=1\n",
    "    elif first_rank < second_rank:\n",
    "        second_won +=1\n",
    "print(\"Player 1: \"+str(first_won))\n",
    "print(\"Player 2: \"+str(second_won))"
   ]
  },
  {
   "cell_type": "code",
   "execution_count": null,
   "metadata": {},
   "outputs": [],
   "source": []
  }
 ],
 "metadata": {
  "kernelspec": {
   "display_name": "Python 3",
   "language": "python",
   "name": "python3"
  },
  "language_info": {
   "codemirror_mode": {
    "name": "ipython",
    "version": 3
   },
   "file_extension": ".py",
   "mimetype": "text/x-python",
   "name": "python",
   "nbconvert_exporter": "python",
   "pygments_lexer": "ipython3",
   "version": "3.7.1"
  }
 },
 "nbformat": 4,
 "nbformat_minor": 4
}
